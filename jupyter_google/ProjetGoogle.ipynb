{
 "cells": [
  {
   "cell_type": "markdown",
   "metadata": {},
   "source": [
    "### Chargement des modules nécessaires pour le projet\n",
    "Commencez par exécuter la cellule ci-dessous. Elle va charger tout le nécessaire pour faire fonctionner votre code. \n",
    "Si vous le lancez en ligne, __soyez patients__ (attendez que l'étoile à gauche devienne un nombre entre crochets).\n"
   ]
  },
  {
   "cell_type": "code",
   "execution_count": null,
   "metadata": {
    "scrolled": false
   },
   "outputs": [],
   "source": [
    "include(\"jupy.jl\")"
   ]
  },
  {
   "cell_type": "markdown",
   "metadata": {},
   "source": [
    "### Donnéees à utiliser\n",
    "\n",
    "On rappelle les structures qui sont remplies par les méthodes de lecture de données.\n",
    "\n",
    "#### data structure for data used to compute the balance cost\n",
    "```\n",
    "struct BalanceData\n",
    "    resource1::Int64        # first resource\n",
    "    resource2::Int64        # second resource\n",
    "    target::Int64           # target aimed for the recource consumption\n",
    "    weight::Int64           # weight of the balance cost\n",
    "end\n",
    "```\n",
    "\n",
    "#### data struture for an instance of Google challenge problem\n",
    "```\n",
    "struct DataGoogle\n",
    "    nbResources::Int64               # number of resources in the instance\n",
    "    transientStatus::Array{Int64}    # table indicating if each resource is transient (O/1)\n",
    "    weightLoadCost::Array{Int64}     # table indicating the weight of load cost for each resource\n",
    "\n",
    "    nbMachines::Int64                # number of machines\n",
    "    neighborhoods::Array{Int64}      # table indicating the neighborhood of each machine\n",
    "    nbNeighborhoods::Int64           # total number of neighbordhoods\n",
    "    locations::Array{Int64}          # table indicating the location of each machine\n",
    "    nbLocations::Int64               # total number of locations\n",
    "    softCapacities::Array{Int64,2}   # softcapacities[m,r] indicates the soft cap of machine m for resource r\n",
    "    hardCapacities::Array{Int64,2}   # hardcapacities[m,r] indicates the hard cap of machine m for resource r\n",
    "    machineMoveCosts::Array{Int64,2} # machineMoveCosts[m1,m2] indicates the cost for moving from m1 to m2\n",
    "\n",
    "    nbServices::Int64                # number of services\n",
    "    spreadMin::Array{Int64}          # for each service, its spread min\n",
    "    dependences::Array{Array{Int64}} # for each service, a list of dependences (service numbers)\n",
    "\n",
    "    nbProcess::Int64                 # number of processes\n",
    "    servicesProcess::Array{Int64}    # for each process  its service\n",
    "    processReq::Array{Int64,2}       # processReq[p,r] indicates the consumption of resource r by p\n",
    "    processMoveCost::Array{Int64}    # cost of moving each process p\n",
    "\n",
    "    nbBalanceCostData::Int64               # number of balance constraints\n",
    "    balanceCostDataList::Array{BalanceData} # one for each balance target\n",
    "    processMoveWeight::Int64        # weight for the process move cost\n",
    "    serviceMoveWeight::Int64        # weight for the service move cost\n",
    "    machineMoveWeight::Int64        # weight for the machine move cost\n",
    "\n",
    "    initialAssignment # for each process, id of the machine in the initial solution\n",
    "end\n",
    "```\n",
    "\n",
    "#### slution \n",
    "```\n",
    "struct SolutionGoogle\n",
    "    assignment::Array{Int64}\n",
    "    cost::Int64\n",
    "end\n",
    "```\n",
    "\n",
    "\n",
    "\n"
   ]
  },
  {
   "cell_type": "markdown",
   "metadata": {},
   "source": [
    "### Cellule à modifier\n",
    "Insérez ci-dessous votre modèle dans la méthode **solveGoogle**. \n",
    "\n",
    "N'oubliez pas de faire un run sur la cellule quand vous avez fini. "
   ]
  },
  {
   "cell_type": "code",
   "execution_count": null,
   "metadata": {
    "scrolled": false
   },
   "outputs": [],
   "source": [
    "\n",
    "function solveGoogle(data::DataGoogle, verbose::Bool)\n",
    "   \n",
    "    # insert your model here \n",
    "    \n",
    "    \n",
    "\n",
    "    objVal = 1 # to be replaced by the objective value \n",
    "\n",
    "    soluce = Array{Int64}(undef, data.nbProcess) # create an empty table\n",
    "\n",
    "    for i in 1:data.nbProcess\n",
    "        soluce[i] = rand(1:data.nbMachines)   # to be replaced by the assignment found by your model \n",
    "    end\n",
    "\n",
    "    return SolutionGoogle(soluce,objVal)\n",
    "end\n"
   ]
  },
  {
   "cell_type": "markdown",
   "metadata": {},
   "source": [
    "### Cellule de test\n",
    "La cellule ci-dessous permet d'exécuter le code. Elle lit la donnée, lance votre méthode solveGoogle, récupère la solution, et vérifie le respect des contraintes et son coût. \n",
    "\n",
    "Vous pouvez modifier le nom pour tester sur un autre jeu de donnée. "
   ]
  },
  {
   "cell_type": "code",
   "execution_count": null,
   "metadata": {
    "scrolled": true
   },
   "outputs": [],
   "source": [
    "# enter your instance name here \n",
    "donnee = \"a1_1\"  # possibles values a1_1, a1_2, a1_3, a1_4, a1_5, a2_1, a2_2, a2_3, a2_4, a2_5 \n",
    "\n",
    "# set to yes if you want to print intermediate logs\n",
    "verbose = false\n",
    "\n",
    "main(\"model_\"*donnee*\".txt\",\"assignment_\"*donnee*\".txt\",verbose)\n"
   ]
  }
 ],
 "metadata": {
  "kernelspec": {
   "display_name": "Julia 1.4.0",
   "language": "julia",
   "name": "julia-1.4"
  },
  "language_info": {
   "file_extension": ".jl",
   "mimetype": "application/julia",
   "name": "julia",
   "version": "1.4.0"
  }
 },
 "nbformat": 4,
 "nbformat_minor": 2
}
