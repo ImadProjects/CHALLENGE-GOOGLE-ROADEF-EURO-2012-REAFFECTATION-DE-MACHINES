{
 "cells": [
  {
   "cell_type": "markdown",
   "metadata": {},
   "source": [
    "### Chargement des modules nécessaires pour le projet\n",
    "Commencez par exécuter la cellule ci-dessous. Elle va charger tout le nécessaire pour faire fonctionner votre code. \n",
    "Si vous le lancez en ligne, __soyez patients__ (attendez que l'étoile à gauche devienne un nombre entre crochets).\n"
   ]
  },
  {
   "cell_type": "code",
   "execution_count": 1,
   "metadata": {
    "scrolled": false
   },
   "outputs": [
    {
     "name": "stderr",
     "output_type": "stream",
     "text": [
      "\u001b[32m\u001b[1m   Updating\u001b[22m\u001b[39m registry at `~/.julia/registries/General`\n"
     ]
    },
    {
     "name": "stdout",
     "output_type": "stream",
     "text": [
      "\u001b[?25l    "
     ]
    },
    {
     "name": "stderr",
     "output_type": "stream",
     "text": [
      "\u001b[32m\u001b[1m   Updating\u001b[22m\u001b[39m git-repo `https://github.com/JuliaRegistries/General.git`\n"
     ]
    },
    {
     "name": "stdout",
     "output_type": "stream",
     "text": [
      "\u001b[36m\u001b[1mFetching:\u001b[22m\u001b[39m [>                                        ]  0.0 %\r",
      "    \u001b[36m\u001b[1mFetching:\u001b[22m\u001b[39m [======>                                  ]  14.3 %\r",
      "    \u001b[36m\u001b[1mFetching:\u001b[22m\u001b[39m [============>                            ]  28.6 %\r",
      "    \u001b[36m\u001b[1mFetching:\u001b[22m\u001b[39m [==================>                      ]  42.9 %\r",
      "    \u001b[36m\u001b[1mFetching:\u001b[22m\u001b[39m [=======================>                 ]  57.1 %\r",
      "    \u001b[36m\u001b[1mFetching:\u001b[22m\u001b[39m [=============================>           ]  71.4 %\r",
      "    \u001b[36m\u001b[1mFetching:\u001b[22m\u001b[39m [===================================>     ]  85.7 %\r",
      "    \u001b[36m\u001b[1mFetching:\u001b[22m\u001b[39m [========================================>]  100.0 %\r",
      "\u001b[2K\u001b[?25h"
     ]
    },
    {
     "name": "stderr",
     "output_type": "stream",
     "text": [
      "\u001b[32m\u001b[1m  Resolving\u001b[22m\u001b[39m package versions...\n",
      "\u001b[32m\u001b[1m   Updating\u001b[22m\u001b[39m `~/.julia/environments/v1.4/Project.toml`\n",
      "\u001b[90m [no changes]\u001b[39m\n",
      "\u001b[32m\u001b[1m   Updating\u001b[22m\u001b[39m `~/.julia/environments/v1.4/Manifest.toml`\n",
      "\u001b[90m [no changes]\u001b[39m\n",
      "\u001b[32m\u001b[1m  Resolving\u001b[22m\u001b[39m package versions...\n",
      "\u001b[32m\u001b[1m   Updating\u001b[22m\u001b[39m `~/.julia/environments/v1.4/Project.toml`\n",
      "\u001b[90m [no changes]\u001b[39m\n",
      "\u001b[32m\u001b[1m   Updating\u001b[22m\u001b[39m `~/.julia/environments/v1.4/Manifest.toml`\n",
      "\u001b[90m [no changes]\u001b[39m\n"
     ]
    },
    {
     "data": {
      "text/plain": [
       "main (generic function with 1 method)"
      ]
     },
     "execution_count": 1,
     "metadata": {},
     "output_type": "execute_result"
    }
   ],
   "source": [
    "include(\"jupy.jl\")"
   ]
  },
  {
   "cell_type": "markdown",
   "metadata": {},
   "source": [
    "### Donnéees à utiliser\n",
    "\n",
    "On rappelle les structures qui sont remplies par les méthodes de lecture de données.\n",
    "\n",
    "#### data structure for data used to compute the balance cost\n",
    "```\n",
    "struct BalanceData\n",
    "    resource1::Int64        # first resource\n",
    "    resource2::Int64        # second resource\n",
    "    target::Int64           # target aimed for the recource consumption\n",
    "    weight::Int64           # weight of the balance cost\n",
    "end\n",
    "```\n",
    "\n",
    "#### data struture for an instance of Google challenge problem\n",
    "```\n",
    "struct DataGoogle\n",
    "    nbResources::Int64               # number of resources in the instance\n",
    "    transientStatus::Array{Int64}    # table indicating if each resource is transient (O/1)\n",
    "    weightLoadCost::Array{Int64}     # table indicating the weight of load cost for each resource\n",
    "\n",
    "    nbMachines::Int64                # number of machines\n",
    "    neighborhoods::Array{Int64}      # table indicating the neighborhood of each machine\n",
    "    nbNeighborhoods::Int64           # total number of neighbordhoods\n",
    "    locations::Array{Int64}          # table indicating the location of each machine\n",
    "    nbLocations::Int64               # total number of locations\n",
    "    softCapacities::Array{Int64,2}   # softcapacities[m,r] indicates the soft cap of machine m for resource r\n",
    "    hardCapacities::Array{Int64,2}   # hardcapacities[m,r] indicates the hard cap of machine m for resource r\n",
    "    machineMoveCosts::Array{Int64,2} # machineMoveCosts[m1,m2] indicates the cost for moving from m1 to m2\n",
    "\n",
    "    nbServices::Int64                # number of services\n",
    "    spreadMin::Array{Int64}          # for each service, its spread min\n",
    "    dependences::Array{Array{Int64}} # for each service, a list of dependences (service numbers)\n",
    "\n",
    "    nbProcess::Int64                 # number of processes\n",
    "    servicesProcess::Array{Int64}    # for each process  its service\n",
    "    processReq::Array{Int64,2}       # processReq[p,r] indicates the consumption of resource r by p\n",
    "    processMoveCost::Array{Int64}    # cost of moving each process p\n",
    "\n",
    "    nbBalanceCostData::Int64               # number of balance constraints\n",
    "    balanceCostDataList::Array{BalanceData} # one for each balance target\n",
    "    processMoveWeight::Int64        # weight for the process move cost\n",
    "    serviceMoveWeight::Int64        # weight for the service move cost\n",
    "    machineMoveWeight::Int64        # weight for the machine move cost\n",
    "\n",
    "    initialAssignment # for each process, id of the machine in the initial solution\n",
    "end\n",
    "```\n",
    "\n",
    "#### slution \n",
    "```\n",
    "struct SolutionGoogle\n",
    "    assignment::Array{Int64}\n",
    "    cost::Int64\n",
    "end\n",
    "```\n",
    "\n",
    "\n",
    "\n"
   ]
  },
  {
   "cell_type": "markdown",
   "metadata": {},
   "source": [
    "### Cellule à modifier\n",
    "Insérez ci-dessous votre modèle dans la méthode **solveGoogle**. \n",
    "\n",
    "N'oubliez pas de faire un run sur la cellule quand vous avez fini. "
   ]
  },
  {
   "cell_type": "code",
   "execution_count": 22,
   "metadata": {
    "scrolled": true
   },
   "outputs": [
    {
     "ename": "LoadError",
     "evalue": "syntax: incomplete: \"for\" at none:93 requires end",
     "output_type": "error",
     "traceback": [
      "syntax: incomplete: \"for\" at none:93 requires end",
      ""
     ]
    }
   ],
   "source": [
    "using Cbc\n",
    "using JuMP\n",
    "function solveGoogle(data::DataGoogle, verbose::Bool)\n",
    "\n",
    "    # model\n",
    "    m = Model(Cbc.Optimizer)    # on crée un modèle en précisant qu'on va utiliser Cbc\n",
    "    \n",
    "    \n",
    "    @variable(m,x[i=1:data.nbMachines,j=1:data.nbProcess],Bin) # Process j affecté à machine i (xij is Binary)\n",
    "\n",
    "    println(\"---------Nbre machines----------\")\n",
    "    println(data.nbMachines)\n",
    "    println(\"---------Nbre processus---------\")\n",
    "    println(data.nbProcess)    \n",
    "    println(\"--------------------------------\")\n",
    " \n",
    "    ####################### O3 ########################\n",
    "    #@objective(m, Min, sum(data.processMoveCost[j] * ( 1 - x[data.initialAssignment[j],j] ) for j in 1:data.nbProcess)) #O3\n",
    "    ####################################################\n",
    "    \n",
    "    \n",
    "   ####################### Contrainte 1 ######################################\n",
    "    @constraint(m, constraint1[j=1:data.nbProcess], sum(x[i,j] for i=1:data.nbMachines) == 1 ) # C1\n",
    "    ###########################################################################\n",
    "    \n",
    "    \n",
    "   ####################### Contrainte 2 ######################################\n",
    "    @constraint(m, constraint2[i=1:data.nbMachines,r=1:data.nbResources], sum(data.processReq[j,r]*(x[i,j]) for j=1:data.nbProcess) <= data.hardCapacities[i,r] ) # C2\n",
    "    ###########################################################################\n",
    "    \n",
    "    \n",
    "   ####################### Contrainte 3 ######################################\n",
    "    for p1 in 1:data.nbProcess \n",
    "        for p2 in 1:data.nbProcess\n",
    "            if data.servicesProcess[p1]==data.servicesProcess[p2]\n",
    "                if p1 != p2\n",
    "                    for i in 1:data.nbMachines\n",
    "                        @constraint(m, x[i,p1]+x[i,p2] <= 1 )\n",
    "                    end\n",
    "                end\n",
    "            end\n",
    "        end\n",
    "    end   \n",
    "    ###########################################################################\n",
    "      \n",
    "    \n",
    "    ####################### O1 ########################\n",
    "    @variable(m,max_value_o1[i=1:data.nbMachines,r=1:data.nbResources] >= 0,Int) # to set max\n",
    "    @variable(m,is_max_value_o1[i=1:data.nbMachines,r=1:data.nbResources],Bin) # to help set max\n",
    "\n",
    "    @constraint(m,init_max_value_o1[i=1:data.nbMachines,r=1:data.nbResources],max_value_o1[i,r] >= sum(data.processReq[p,r] * x[i,p] for p in 1:data.nbProcess) - data.softCapacities[i,r])\n",
    "   \n",
    "    @constraint(m,check1_init_max_value_o1[i=1:data.nbMachines,r=1:data.nbResources],max_value_o1[i,r]<= 0 + 10^10 * is_max_value_o1[i,r])\n",
    "    \n",
    "    @constraint(m,check2_init_max_value_o1[i=1:data.nbMachines,r=1:data.nbResources],max_value_o1[i,r] <= sum(data.processReq[p,r] * x[i,p] for p in 1:data.nbProcess) - data.softCapacities[i,r] + 10^10 * (1 - is_max_value_o1[i,r]) )    \n",
    "    \n",
    "    #@objective(m,Min, sum(data.weightLoadCost[r] * max_value_o1[i,r] for i in 1:data.nbMachines, r in 1:data.nbResources))\n",
    "\n",
    "    ####################################################\n",
    "    \n",
    "    ####################### O2 ########################\n",
    "\n",
    "\n",
    "    @variable(m, max_1[i=1:data.nbMachines,j=1:data.nbBalanceCostData] >= 0, Int) # to set max\n",
    "    @variable(m,is_max1[i=1:data.nbMachines,j=1:data.nbBalanceCostData],Bin) # to help set max\n",
    "\n",
    "\n",
    "    @constraint(m,init_max1[i=1:data.nbMachines,j=1:data.nbBalanceCostData],max_1[i,j] >= data.balanceCostDataList[j].target * ( data.hardCapacities[i,data.balanceCostDataList[j].resource1] - sum(data.processReq[p,data.balanceCostDataList[j].resource1] * x[i,p] for p in 1:data.nbProcess) ) - ( data.hardCapacities[i,data.balanceCostDataList[j].resource2] - sum(data.processReq[p ,data.balanceCostDataList[j].resource2] * x[i,p] for p in 1:data.nbProcess) ) )\n",
    "    \n",
    "    @constraint(m,chack1_int_1[i=1:data.nbMachines,j=1:data.nbBalanceCostData],max_1[i,j] <= 0 + 10^10 * is_max1[i,j] )\n",
    "\n",
    "    @constraint(m,chack2_int_1[i=1:data.nbMachines,j=1:data.nbBalanceCostData],max_1[i,j] <= data.balanceCostDataList[j].target * ( data.hardCapacities[i,data.balanceCostDataList[j].resource1] - sum(data.processReq[p,data.balanceCostDataList[j].resource1] * x[i,p] for p in 1:data.nbProcess) ) - ( data.hardCapacities[i,data.balanceCostDataList[j].resource2] - sum(data.processReq[p ,data.balanceCostDataList[j].resource2] * x[i,p] for p in 1:data.nbProcess) ) + 10^10 * (1 - is_max1[i,j]))\n",
    "    \n",
    "    \n",
    "    #@objective(m,Min, sum(data.balanceCostDataList[j].weight * max_1[m,j] for m in 1:data.nbMachines, j in 1:data.nbBalanceCostData))\n",
    "    \n",
    "    ####################################################\n",
    "    \n",
    "    ####################### O5 ########################\n",
    "    \n",
    "    #@objective(m,Min,sum(data.machineMoveCosts[data.initialAssignment[p],m]*x[m,p]  for p in 1:data.nbProcess,m in 1:data.nbMachines))\n",
    "\n",
    "    ####################################################\n",
    "\n",
    "    ####################### O4 ########################\n",
    "    @variable(m,nbMovesInService[i=1:data.nbServices] >= 0,Int) #tableau de valeurs des compteurs pour les services\n",
    "    @constraint(m,init_nbMovesInService[i=1:data.nbServices],nbMovesInService[i] == sum((1 - x[data.initialAssignment[p],p]) for p in 1:data.nbProcess if data.servicesProcess[p] == i)) #initialise ce tableau\n",
    "    \n",
    "    @variable(m,max_move_cervices,Int)\n",
    "    @constraint(m,init_max_move_cervices[i=1:data.nbServices],max_move_cervices >= nbMovesInService[i])\n",
    "    \n",
    "    #@objective(m,Min,max_move_cervices) # minimiser \n",
    "    ####################### C4 ###########################\n",
    "    \n",
    "    for s1 in 1:data.nbServices\n",
    "        for s2 in 1:data.nbServices\n",
    "            if s1 != s2\n",
    "                for pa in data.dependeces[s1]\n",
    "                    @constraint(m,constrain5[pb in data.dependeces[s2], n in 1:data.nbMachines],sum(data.machineMoveCosts[data.initialAssignment[p],m]*x[m,p] for p in 1:data.nbProcess) == m) )\n",
    "                        \n",
    "            \n",
    "\n",
    "    \n",
    "    ####################### O TOTAL ####################\n",
    "    \n",
    "    @objective(m,Min,max_move_cervices*data.serviceMoveWeight+sum(data.machineMoveCosts[data.initialAssignment[p],m]*x[m,p] for p in 1:data.nbProcess,m in 1:data.nbMachines)*data.machineMoveWeight + data.processMoveWeight*sum(data.processMoveCost[j] * ( 1 - x[data.initialAssignment[j],j] ) for j in 1:data.nbProcess)+sum(data.balanceCostDataList[j].weight * max_1[m,j] for m in 1:data.nbMachines, j in 1:data.nbBalanceCostData)+sum(data.weightLoadCost[r] * max_value_o1[i,r] for i in 1:data.nbMachines, r in 1:data.nbResources))\n",
    "    ####################################################\n",
    "    \n",
    "    set_optimizer_attribute(m, \"logLevel\", 0)\n",
    "    #optimize!(m)    # resolution à l'aide du solveur\n",
    "    #set_optimizer_attribute(m, \"seconds\", 300)\n",
    "    optimize!(m)\n",
    "\n",
    "    objVal = JuMP.objective_value(m) # to be replaced by the objective value\n",
    "    soluce = Array{Int64}(undef, data.nbProcess) # create an empty table\n",
    "    #sum(k*JuMP.value(x[k,i]) for k=1:data.nbMachines)\n",
    "    for i in 1:data.nbProcess\n",
    "        soluce[i] = sum(k*round(JuMP.value(x[k,i])) for k=1:data.nbMachines)  # to be replaced by the assignment found by your model\n",
    "    end\n",
    "    println(objVal)\n",
    "    return SolutionGoogle(soluce,objVal)\n",
    "end"
   ]
  },
  {
   "cell_type": "markdown",
   "metadata": {},
   "source": [
    "### Cellule de test\n",
    "La cellule ci-dessous permet d'exécuter le code. Elle lit la donnée, lance votre méthode solveGoogle, récupère la solution, et vérifie le respect des contraintes et son coût. \n",
    "\n",
    "Vous pouvez modifier le nom pour tester sur un autre jeu de donnée. "
   ]
  },
  {
   "cell_type": "code",
   "execution_count": 21,
   "metadata": {
    "scrolled": true
   },
   "outputs": [
    {
     "name": "stdout",
     "output_type": "stream",
     "text": [
      "Received instance files model_a1_1.txt and assignment_a1_1.txt\n",
      "---------Nbre machines----------\n",
      "4\n",
      "---------Nbre processus---------\n",
      "100\n",
      "--------------------------------\n",
      "4.4306501e7\n",
      "Checking the solution \n",
      "Solution received is [1, 1, 1, 2, 2, 4, 4, 4, 4, 3, 2, 1, 1, 4, 4, 2, 4, 1, 1, 4, 3, 2, 2, 2, 1, 2, 2, 3, 1, 4, 4, 4, 1, 3, 3, 1, 1, 2, 1, 4, 1, 1, 2, 4, 2, 4, 1, 3, 3, 3, 1, 4, 1, 4, 4, 1, 2, 2, 3, 1, 1, 3, 3, 2, 1, 3, 4, 2, 2, 1, 1, 3, 1, 1, 4, 1, 2, 1, 2, 4, 4, 2, 1, 1, 1, 4, 1, 1, 1, 3, 1, 4, 4, 2, 3, 4, 3, 2, 2, 3]\n",
      "Cost : 44306501\n",
      "Checking the size of the vector\n",
      "Test passed\n",
      "Checking that the values in the solution are machine indices\n",
      "Test passed\n",
      "Checking capacity constraint (without transient)\n",
      "Test passed\n",
      "Checking capacity constraint (with transient)\n",
      "Test passed\n",
      "Checking disjunctions between processes of the same service\n",
      "Test passed\n",
      "Checking spread constraints \n",
      "Test passed\n",
      "Checking dependency constraints\n",
      "Test passed\n",
      "All tests passed: solution feasible \n",
      "Load cost = 3.101173e7\n",
      "Balance cost = 13294660\n",
      "Process move cost = 1\n",
      "Machine move cost = 1\n",
      "Service move cost = 1.0\n",
      "Objective function = 4.4306501e7\n",
      "Objective recorded in the solution 44306501\n"
     ]
    }
   ],
   "source": [
    "# enter your instance name here \n",
    "donnee = \"a1_1\"  # possibles values a1_1, a1_2, a1_3, a1_4, a1_5, a2_1, a2_2, a2_3, a2_4, a2_5 \n",
    "\n",
    "# set to yes if you want to print intermediate logs \n",
    "verbose = false\n",
    "\n",
    "main(\"model_\"*donnee*\".txt\",\"assignment_\"*donnee*\".txt\",verbose)\n"
   ]
  },
  {
   "cell_type": "code",
   "execution_count": null,
   "metadata": {},
   "outputs": [],
   "source": []
  },
  {
   "cell_type": "code",
   "execution_count": null,
   "metadata": {},
   "outputs": [],
   "source": []
  },
  {
   "cell_type": "code",
   "execution_count": null,
   "metadata": {},
   "outputs": [],
   "source": []
  }
 ],
 "metadata": {
  "kernelspec": {
   "display_name": "Julia 1.4.1",
   "language": "julia",
   "name": "julia-1.4"
  },
  "language_info": {
   "file_extension": ".jl",
   "mimetype": "application/julia",
   "name": "julia",
   "version": "1.4.1"
  }
 },
 "nbformat": 4,
 "nbformat_minor": 2
}
